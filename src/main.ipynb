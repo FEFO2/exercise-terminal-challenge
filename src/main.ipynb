{
 "cells": [
  {
   "cell_type": "markdown",
   "metadata": {},
   "source": [
    "*CONSIGNA: Generar una tabla usando Python con TODOS los ficheros (recursivamente) del workspace que contenga el nombre del fichero, el peso REAL y la última fecha de modificación.*"
   ]
  },
  {
   "cell_type": "markdown",
   "metadata": {},
   "source": [
    "0) Libraries and main variable"
   ]
  },
  {
   "cell_type": "code",
   "execution_count": 33,
   "metadata": {},
   "outputs": [],
   "source": [
    "#Libraries used for the code\n",
    "import pandas as pd #to make the dataframe\n",
    "import os #to work with files and directories\n",
    "from datetime import datetime #to work with dates\n",
    "\n",
    "#Variables used for the code\n",
    "main_route = r\"C:\\Users\\Francesc\\Documents\\GitHub\\exercise-terminal-challenge\""
   ]
  },
  {
   "cell_type": "markdown",
   "metadata": {},
   "source": [
    "1) Create function"
   ]
  },
  {
   "cell_type": "code",
   "execution_count": 56,
   "metadata": {},
   "outputs": [],
   "source": [
    "# VARIABLES\n",
    "names = []\n",
    "sizes = []\n",
    "sizes_bytes = []\n",
    "lastmod = []\n",
    "\n",
    "# FUNCTION TO GET A DATAFRAME WITH THE INFO\n",
    "def get_file_info(main_route):\n",
    "    for dirpath, dirnames, files in os.walk(main_route):\n",
    "        for file in files:\n",
    "            # JOIN PATH TO EXECUTE COMMANDS\n",
    "            f_name = os.path.join(dirpath, file)\n",
    "            # CREATE LIST OF VARIABLES\n",
    "            names.append(file)\n",
    "            size_bytes = os.path.getsize(f_name)\n",
    "            sizes_bytes.append(size_bytes)\n",
    "            if size_bytes < 1024:\n",
    "                size_readable = f\"{size_bytes} B\"\n",
    "            elif size_bytes < 1024 ** 2:\n",
    "                size_readable = f\"{size_bytes / 1024:.2f} KB\"\n",
    "            else:\n",
    "                size_readable = f\"{size_bytes / (1024 ** 2):.2f} MB\"\n",
    "            sizes.append(size_readable)\n",
    "            lastmod.append(datetime.fromtimestamp(os.path.getmtime(f_name)))\n",
    "    # CREATE DATAFRAME\n",
    "    df = pd.DataFrame({'file_name': names,\n",
    "                       'file_size': sizes,\n",
    "                       'last_modification': lastmod})\n",
    "    return df"
   ]
  },
  {
   "cell_type": "markdown",
   "metadata": {},
   "source": [
    "2) Execute function"
   ]
  },
  {
   "cell_type": "code",
   "execution_count": 57,
   "metadata": {},
   "outputs": [
    {
     "data": {
      "text/html": [
       "<div>\n",
       "<style scoped>\n",
       "    .dataframe tbody tr th:only-of-type {\n",
       "        vertical-align: middle;\n",
       "    }\n",
       "\n",
       "    .dataframe tbody tr th {\n",
       "        vertical-align: top;\n",
       "    }\n",
       "\n",
       "    .dataframe thead th {\n",
       "        text-align: right;\n",
       "    }\n",
       "</style>\n",
       "<table border=\"1\" class=\"dataframe\">\n",
       "  <thead>\n",
       "    <tr style=\"text-align: right;\">\n",
       "      <th></th>\n",
       "      <th>file_name</th>\n",
       "      <th>file_size</th>\n",
       "      <th>last_modification</th>\n",
       "    </tr>\n",
       "  </thead>\n",
       "  <tbody>\n",
       "    <tr>\n",
       "      <th>0</th>\n",
       "      <td>.babelrc</td>\n",
       "      <td>622 B</td>\n",
       "      <td>2024-05-03 21:27:00.594671</td>\n",
       "    </tr>\n",
       "    <tr>\n",
       "      <th>1</th>\n",
       "      <td>.gitignore</td>\n",
       "      <td>38 B</td>\n",
       "      <td>2024-05-03 21:27:00.595671</td>\n",
       "    </tr>\n",
       "    <tr>\n",
       "      <th>2</th>\n",
       "      <td>index.html</td>\n",
       "      <td>413 B</td>\n",
       "      <td>2024-05-03 21:27:00.596672</td>\n",
       "    </tr>\n",
       "    <tr>\n",
       "      <th>3</th>\n",
       "      <td>index.js</td>\n",
       "      <td>853 B</td>\n",
       "      <td>2024-05-03 21:27:00.596672</td>\n",
       "    </tr>\n",
       "    <tr>\n",
       "      <th>4</th>\n",
       "      <td>learn.json</td>\n",
       "      <td>678 B</td>\n",
       "      <td>2024-05-03 21:27:00.596672</td>\n",
       "    </tr>\n",
       "    <tr>\n",
       "      <th>...</th>\n",
       "      <td>...</td>\n",
       "      <td>...</td>\n",
       "      <td>...</td>\n",
       "    </tr>\n",
       "    <tr>\n",
       "      <th>88</th>\n",
       "      <td>valid.png</td>\n",
       "      <td>1.44 KB</td>\n",
       "      <td>2024-05-03 21:27:00.620733</td>\n",
       "    </tr>\n",
       "    <tr>\n",
       "      <th>89</th>\n",
       "      <td>view-source_projects.breathecode.local_p_php_s...</td>\n",
       "      <td>398 B</td>\n",
       "      <td>2024-05-03 21:27:00.621734</td>\n",
       "    </tr>\n",
       "    <tr>\n",
       "      <th>90</th>\n",
       "      <td>invalid.png</td>\n",
       "      <td>9.73 KB</td>\n",
       "      <td>2024-05-03 21:27:00.614735</td>\n",
       "    </tr>\n",
       "    <tr>\n",
       "      <th>91</th>\n",
       "      <td>the-ultimate-joke.txt</td>\n",
       "      <td>74 B</td>\n",
       "      <td>2024-05-03 21:27:00.620733</td>\n",
       "    </tr>\n",
       "    <tr>\n",
       "      <th>92</th>\n",
       "      <td>dragon-ball-jokes.md</td>\n",
       "      <td>1.06 KB</td>\n",
       "      <td>2024-05-03 21:27:00.621734</td>\n",
       "    </tr>\n",
       "  </tbody>\n",
       "</table>\n",
       "<p>93 rows × 3 columns</p>\n",
       "</div>"
      ],
      "text/plain": [
       "                                            file_name file_size  \\\n",
       "0                                            .babelrc     622 B   \n",
       "1                                          .gitignore      38 B   \n",
       "2                                          index.html     413 B   \n",
       "3                                            index.js     853 B   \n",
       "4                                          learn.json     678 B   \n",
       "..                                                ...       ...   \n",
       "88                                          valid.png   1.44 KB   \n",
       "89  view-source_projects.breathecode.local_p_php_s...     398 B   \n",
       "90                                        invalid.png   9.73 KB   \n",
       "91                              the-ultimate-joke.txt      74 B   \n",
       "92                               dragon-ball-jokes.md   1.06 KB   \n",
       "\n",
       "            last_modification  \n",
       "0  2024-05-03 21:27:00.594671  \n",
       "1  2024-05-03 21:27:00.595671  \n",
       "2  2024-05-03 21:27:00.596672  \n",
       "3  2024-05-03 21:27:00.596672  \n",
       "4  2024-05-03 21:27:00.596672  \n",
       "..                        ...  \n",
       "88 2024-05-03 21:27:00.620733  \n",
       "89 2024-05-03 21:27:00.621734  \n",
       "90 2024-05-03 21:27:00.614735  \n",
       "91 2024-05-03 21:27:00.620733  \n",
       "92 2024-05-03 21:27:00.621734  \n",
       "\n",
       "[93 rows x 3 columns]"
      ]
     },
     "execution_count": 57,
     "metadata": {},
     "output_type": "execute_result"
    }
   ],
   "source": [
    "get_file_info(main_route)"
   ]
  }
 ],
 "metadata": {
  "kernelspec": {
   "display_name": "Python 3",
   "language": "python",
   "name": "python3"
  },
  "language_info": {
   "name": "python",
   "version": "3.12.0"
  }
 },
 "nbformat": 4,
 "nbformat_minor": 2
}
